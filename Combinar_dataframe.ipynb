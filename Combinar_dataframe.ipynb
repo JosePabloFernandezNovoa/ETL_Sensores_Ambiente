{
 "cells": [
  {
   "cell_type": "code",
   "execution_count": 1,
   "id": "04a60ffe-5797-465b-b0a0-a8ba7d8a0e5c",
   "metadata": {},
   "outputs": [
    {
     "name": "stderr",
     "output_type": "stream",
     "text": [
      "24/05/15 18:06:16 WARN Utils: Your hostname, CEPrueba resolves to a loopback address: 127.0.1.1; using 172.17.10.30 instead (on interface ens18)\n",
      "24/05/15 18:06:16 WARN Utils: Set SPARK_LOCAL_IP if you need to bind to another address\n",
      "Setting default log level to \"WARN\".\n",
      "To adjust logging level use sc.setLogLevel(newLevel). For SparkR, use setLogLevel(newLevel).\n"
     ]
    }
   ],
   "source": [
    "from pyspark.sql import SparkSession\n",
    "spark=SparkSession.builder.appName(\"Combinar_dataframes_por_sensor\").getOrCreate()\n",
    "sc=spark.sparkContext "
   ]
  },
  {
   "cell_type": "code",
   "execution_count": 2,
   "id": "3b623e0c-7ca5-4b4e-ae61-1b8482a7e1ff",
   "metadata": {},
   "outputs": [],
   "source": [
    "arduinos = ['142','145','149','cisco']\n",
    "sensores = ['humedad','luminosidad','ruido','temperatura']"
   ]
  },
  {
   "cell_type": "code",
   "execution_count": 7,
   "id": "39fe29e6-3b1e-432b-82e6-14ab4000c0b6",
   "metadata": {},
   "outputs": [
    {
     "name": "stderr",
     "output_type": "stream",
     "text": [
      "                                                                                \r"
     ]
    }
   ],
   "source": [
    "\n",
    "for ard in arduinos:\n",
    "    for sensor in sensores:\n",
    "        try:\n",
    "            path=f\"hdfs://172.17.10.30:9000/Pro_IOT/{ard}/{sensor}\"\n",
    "            df = spark.read.csv(path)\n",
    "            df.write.csv(f\"hdfs://172.17.10.30:9000/Pro_IOT/{ard}_{sensor}.csv\")\n",
    "        except:\n",
    "            pass"
   ]
  },
  {
   "cell_type": "code",
   "execution_count": null,
   "id": "1ea590ab-154d-4053-b7b1-fc544f5d854a",
   "metadata": {},
   "outputs": [],
   "source": []
  }
 ],
 "metadata": {
  "kernelspec": {
   "display_name": "Python 3 (ipykernel)",
   "language": "python",
   "name": "python3"
  },
  "language_info": {
   "codemirror_mode": {
    "name": "ipython",
    "version": 3
   },
   "file_extension": ".py",
   "mimetype": "text/x-python",
   "name": "python",
   "nbconvert_exporter": "python",
   "pygments_lexer": "ipython3",
   "version": "3.9.2"
  }
 },
 "nbformat": 4,
 "nbformat_minor": 5
}
